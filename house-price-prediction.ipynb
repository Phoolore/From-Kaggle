{
 "cells": [
  {
   "cell_type": "markdown",
   "id": "1d307d8f",
   "metadata": {
    "papermill": {
     "duration": 0.009321,
     "end_time": "2025-10-16T19:13:57.772495",
     "exception": false,
     "start_time": "2025-10-16T19:13:57.763174",
     "status": "completed"
    },
    "tags": []
   },
   "source": [
    "* **SalePrice** - the property's sale price in dollars. This is the target variable that you're trying to predict.\n",
    "* **MSSubClass**: The building class\n",
    "* **MSZoning**: The general zoning classification\n",
    "* **LotFrontage**: Linear feet of street connected to property\n",
    "* **LotArea**: Lot size in square feet\n",
    "* **Street**: Type of road access\n",
    "* **Alley**: Type of alley access\n",
    "* **LotShape**: General shape of property\n",
    "* **LandContour**: Flatness of the property\n",
    "* **Utilities**: Type of utilities available\n",
    "* **LotConfig**: Lot configuration\n",
    "* **LandSlope**: Slope of property\n",
    "* **Neighborhood**: Physical locations within Ames city limits\n",
    "* **Condition1**: Proximity to main road or railroad\n",
    "* **Condition2**: Proximity to main road or railroad (if a second is present)\n",
    "* **BldgType**: Type of dwelling\n",
    "* **HouseStyle**: Style of dwelling\n",
    "* **OverallQual**: Overall material and finish quality\n",
    "* **OverallCond**: Overall condition rating\n",
    "* **YearBuilt**: Original construction date\n",
    "* **YearRemodAdd**: Remodel date\n",
    "* **RoofStyle**: Type of roof\n",
    "* **RoofMatl**: Roof material\n",
    "* **Exterior1st**: Exterior covering on house\n",
    "* **Exterior2nd**: Exterior covering on house (if more than one material)\n",
    "* **MasVnrType**: Masonry veneer type\n",
    "* **MasVnrArea**: Masonry veneer area in square feet\n",
    "* **ExterQual**: Exterior material quality\n",
    "* **ExterCond**: Present condition of the material on the exterior\n",
    "* **Foundation**: Type of foundation\n",
    "* **BsmtQual**: Height of the basement\n",
    "* **BsmtCond**: General condition of the basement\n",
    "* **BsmtExposure**: Walkout or garden level basement walls\n",
    "* **BsmtFinType1**: Quality of basement finished area\n",
    "* **BsmtFinSF1**: Type 1 finished square feet\n",
    "* **BsmtFinType2**: Quality of second finished area (if present)\n",
    "* **BsmtFinSF2**: Type 2 finished square feet\n",
    "* **BsmtUnfSF**: Unfinished square feet of basement area\n",
    "* **TotalBsmtSF**: Total square feet of basement area\n",
    "* **Heating**: Type of heating\n",
    "* **HeatingQC**: Heating quality and condition\n",
    "* **CentralAir**: Central air conditioning\n",
    "* **Electrical**: Electrical system\n",
    "* **1stFlrSF**: First Floor square feet\n",
    "* **2ndFlrSF**: Second floor square feet\n",
    "* **LowQualFinSF**: Low quality finished square feet (all floors)\n",
    "* **GrLivArea**: Above grade (ground) living area square feet\n",
    "* **BsmtFullBath**: Basement full bathrooms\n",
    "* **BsmtHalfBath**: Basement half bathrooms\n",
    "* **FullBath**: Full bathrooms above grade\n",
    "* **HalfBath**: Half baths above grade\n",
    "* **Bedroom**: Number of bedrooms above basement level\n",
    "* **Kitchen**: Number of kitchens\n",
    "* **KitchenQual**: Kitchen quality\n",
    "* **TotRmsAbvGrd**: Total rooms above grade (does not include bathrooms)\n",
    "* **Functional**: Home functionality rating\n",
    "* **Fireplaces**: Number of fireplaces\n",
    "* **FireplaceQu**: Fireplace quality\n",
    "* **GarageType**: Garage location\n",
    "* **GarageYrBlt**: Year garage was built\n",
    "* **GarageFinish**: Interior finish of the garage\n",
    "* **GarageCars**: Size of garage in car capacity\n",
    "* **GarageArea**: Size of garage in square feet\n",
    "* **GarageQual**: Garage quality\n",
    "* **GarageCond**: Garage condition\n",
    "* **PavedDrive**: Paved driveway\n",
    "* **WoodDeckSF**: Wood deck area in square feet\n",
    "* **OpenPorchSF**: Open porch area in square feet\n",
    "* **EnclosedPorch**: Enclosed porch area in square feet\n",
    "* **3SsnPorch**: Three season porch area in square feet\n",
    "* **ScreenPorch**: Screen porch area in square feet\n",
    "* **PoolArea**: Pool area in square feet\n",
    "* **PoolQC**: Pool quality\n",
    "* **Fence**: Fence quality\n",
    "* **MiscFeature**: Miscellaneous feature not covered in other categories\n",
    "* **MiscVal**: Value of miscellaneous feature\n",
    "* **MoSold**: Month Sold\n",
    "* **YrSold**: Year Sold\n",
    "* **SaleType**: Type of sale\n",
    "* **SaleCondition**: Condition of sale"
   ]
  },
  {
   "cell_type": "code",
   "execution_count": 1,
   "id": "d790f2bc",
   "metadata": {
    "execution": {
     "iopub.execute_input": "2025-10-16T19:13:57.798528Z",
     "iopub.status.busy": "2025-10-16T19:13:57.798070Z",
     "iopub.status.idle": "2025-10-16T19:13:57.802879Z",
     "shell.execute_reply": "2025-10-16T19:13:57.803253Z",
     "shell.execute_reply.started": "2025-10-16T19:09:18.604824Z"
    },
    "papermill": {
     "duration": 0.022454,
     "end_time": "2025-10-16T19:13:57.803459",
     "exception": false,
     "start_time": "2025-10-16T19:13:57.781005",
     "status": "completed"
    },
    "tags": []
   },
   "outputs": [
    {
     "name": "stdout",
     "output_type": "stream",
     "text": [
      "/kaggle/input/house-prices-advanced-regression-techniques/sample_submission.csv\n",
      "/kaggle/input/house-prices-advanced-regression-techniques/data_description.txt\n",
      "/kaggle/input/house-prices-advanced-regression-techniques/train.csv\n",
      "/kaggle/input/house-prices-advanced-regression-techniques/test.csv\n"
     ]
    }
   ],
   "source": [
    "# This Python 3 environment comes with many helpful analytics libraries installed\n",
    "# It is defined by the kaggle/python Docker image: https://github.com/kaggle/docker-python\n",
    "# For example, here's several helpful packages to load\n",
    "\n",
    "import numpy as np # linear algebra\n",
    "import pandas as pd # data processing, CSV file I/O (e.g. pd.read_csv)\n",
    "\n",
    "# Input data files are available in the read-only \"../input/\" directory\n",
    "# For example, running this (by clicking run or pressing Shift+Enter) will list all files under the input directory\n",
    "\n",
    "import os\n",
    "for dirname, _, filenames in os.walk('/kaggle/input'):\n",
    "    for filename in filenames:\n",
    "        print(os.path.join(dirname, filename))\n",
    "\n",
    "# You can write up to 20GB to the current directory (/kaggle/working/) that gets preserved as output when you create a version using \"Save & Run All\" \n",
    "# You can also write temporary files to /kaggle/temp/, but they won't be saved outside of the current session"
   ]
  },
  {
   "cell_type": "code",
   "execution_count": 2,
   "id": "27bc7c30",
   "metadata": {
    "execution": {
     "iopub.execute_input": "2025-10-16T19:13:57.824619Z",
     "iopub.status.busy": "2025-10-16T19:13:57.824154Z",
     "iopub.status.idle": "2025-10-16T19:13:58.664274Z",
     "shell.execute_reply": "2025-10-16T19:13:58.664733Z",
     "shell.execute_reply.started": "2025-10-16T19:09:18.615510Z"
    },
    "papermill": {
     "duration": 0.853029,
     "end_time": "2025-10-16T19:13:58.664927",
     "exception": false,
     "start_time": "2025-10-16T19:13:57.811898",
     "status": "completed"
    },
    "tags": []
   },
   "outputs": [],
   "source": [
    "#df\n",
    "import pandas as pd\n",
    "from sklearn.model_selection import train_test_split\n",
    "\n",
    "# Read the data\n",
    "X = pd.read_csv('/kaggle/input/house-prices-advanced-regression-techniques/train.csv', index_col='Id')\n",
    "X_test_full = pd.read_csv('/kaggle/input/house-prices-advanced-regression-techniques/test.csv', index_col='Id')\n",
    "\n",
    "# Remove rows with missing target, separate target from predictors\n",
    "X.dropna(axis=0, subset=['SalePrice'], inplace=True)\n",
    "y = X.SalePrice              \n",
    "X.drop(['SalePrice'], axis=1, inplace=True)\n",
    "\n",
    "# Break off validation set from training data\n",
    "X_train_full, X_valid_full, y_train, y_valid = train_test_split(X, y, train_size=0.8, test_size=0.2,\n",
    "                                                                random_state=0)\n"
   ]
  },
  {
   "cell_type": "code",
   "execution_count": 3,
   "id": "8ffff054",
   "metadata": {
    "execution": {
     "iopub.execute_input": "2025-10-16T19:13:58.688631Z",
     "iopub.status.busy": "2025-10-16T19:13:58.687984Z",
     "iopub.status.idle": "2025-10-16T19:13:58.791434Z",
     "shell.execute_reply": "2025-10-16T19:13:58.791808Z",
     "shell.execute_reply.started": "2025-10-16T19:09:18.682583Z"
    },
    "papermill": {
     "duration": 0.118546,
     "end_time": "2025-10-16T19:13:58.791946",
     "exception": false,
     "start_time": "2025-10-16T19:13:58.673400",
     "status": "completed"
    },
    "tags": []
   },
   "outputs": [],
   "source": [
    "low_cardinality_cols = [cname for cname in X_train_full.columns if X_train_full[cname].nunique() < 10 and \n",
    "                        X_train_full[cname].dtype == \"object\"]\n",
    "\n",
    "# Select numeric columns\n",
    "numeric_cols = [cname for cname in X_train_full.columns if X_train_full[cname].dtype in ['int64', 'float64']]\n",
    "\n",
    "# Keep selected columns only\n",
    "my_cols = low_cardinality_cols + numeric_cols\n",
    "X_train = X_train_full[my_cols].copy()\n",
    "X_valid = X_valid_full[my_cols].copy()\n",
    "X_test = X_test_full[my_cols].copy()\n",
    "\n",
    "# One-hot encode the data (to shorten the code, we use pandas)\n",
    "X_train = pd.get_dummies(X_train)\n",
    "X_valid = pd.get_dummies(X_valid)\n",
    "X_test = pd.get_dummies(X_test)\n",
    "X_train, X_valid = X_train.align(X_valid, join='left', axis=1)"
   ]
  },
  {
   "cell_type": "code",
   "execution_count": 4,
   "id": "e8ef1000",
   "metadata": {
    "execution": {
     "iopub.execute_input": "2025-10-16T19:13:58.812182Z",
     "iopub.status.busy": "2025-10-16T19:13:58.811502Z",
     "iopub.status.idle": "2025-10-16T19:14:02.250982Z",
     "shell.execute_reply": "2025-10-16T19:14:02.250462Z",
     "shell.execute_reply.started": "2025-10-16T19:09:18.823525Z"
    },
    "papermill": {
     "duration": 3.45072,
     "end_time": "2025-10-16T19:14:02.251095",
     "exception": false,
     "start_time": "2025-10-16T19:13:58.800375",
     "status": "completed"
    },
    "tags": []
   },
   "outputs": [
    {
     "data": {
      "text/plain": [
       "XGBRegressor(base_score=0.5, booster='gbtree', colsample_bylevel=1,\n",
       "             colsample_bynode=1, colsample_bytree=1, enable_categorical=False,\n",
       "             gamma=0, gpu_id=-1, importance_type=None,\n",
       "             interaction_constraints='', learning_rate=0.300000012,\n",
       "             max_delta_step=0, max_depth=6, min_child_weight=1, missing=nan,\n",
       "             monotone_constraints='()', n_estimators=100, n_jobs=4,\n",
       "             num_parallel_tree=1, predictor='auto', random_state=0, reg_alpha=0,\n",
       "             reg_lambda=1, scale_pos_weight=1, subsample=1, tree_method='exact',\n",
       "             validate_parameters=1, verbosity=None)"
      ]
     },
     "execution_count": 4,
     "metadata": {},
     "output_type": "execute_result"
    }
   ],
   "source": [
    "from xgboost import XGBRegressor\n",
    "\n",
    "# Define the model\n",
    "my_model_1 = XGBRegressor(random_state=0) # Your code here\n",
    "\n",
    "# Fit the model\n",
    "my_model_1.fit(X_train, y_train) # Your code here"
   ]
  },
  {
   "cell_type": "code",
   "execution_count": 5,
   "id": "3c2af527",
   "metadata": {
    "execution": {
     "iopub.execute_input": "2025-10-16T19:14:02.271546Z",
     "iopub.status.busy": "2025-10-16T19:14:02.271083Z",
     "iopub.status.idle": "2025-10-16T19:14:02.279744Z",
     "shell.execute_reply": "2025-10-16T19:14:02.279295Z",
     "shell.execute_reply.started": "2025-10-16T19:09:19.778811Z"
    },
    "papermill": {
     "duration": 0.02022,
     "end_time": "2025-10-16T19:14:02.279882",
     "exception": false,
     "start_time": "2025-10-16T19:14:02.259662",
     "status": "completed"
    },
    "tags": []
   },
   "outputs": [],
   "source": [
    "from sklearn.metrics import mean_absolute_error\n",
    "\n",
    "# Get predictions\n",
    "predictions_1 = my_model_1.predict(X_valid)# Your code here"
   ]
  },
  {
   "cell_type": "code",
   "execution_count": 6,
   "id": "d2f771d9",
   "metadata": {
    "execution": {
     "iopub.execute_input": "2025-10-16T19:14:02.307748Z",
     "iopub.status.busy": "2025-10-16T19:14:02.303964Z",
     "iopub.status.idle": "2025-10-16T19:14:14.182861Z",
     "shell.execute_reply": "2025-10-16T19:14:14.183336Z",
     "shell.execute_reply.started": "2025-10-16T19:09:19.797124Z"
    },
    "papermill": {
     "duration": 11.893024,
     "end_time": "2025-10-16T19:14:14.183505",
     "exception": false,
     "start_time": "2025-10-16T19:14:02.290481",
     "status": "completed"
    },
    "tags": []
   },
   "outputs": [
    {
     "name": "stdout",
     "output_type": "stream",
     "text": [
      "lr\t\t100\t\t120\t\t140\t\t160\t\t180\n",
      "10\t 17388.5571\t 17407.1034\t 17421.4059\t 17427.2427\t 17432.0306\n",
      "20\t 17350.7449\t 17317.0199\t 17345.8709\t 17370.9880\t 17361.0018\n",
      "30\t 17662.7367\t 17651.5297\t 17659.8230\t 17657.9659\t 17660.6801\n"
     ]
    }
   ],
   "source": [
    "print(\"lr\", *[i for i in range(100, 200, 20)], sep=\"\\t\\t\")\n",
    "for r in range(10, 40, 10):\n",
    "    print(r, end=\"\")\n",
    "    for n in range(100, 200, 20):\n",
    "        model = XGBRegressor(random_state=0, learning_rate=r / 100, n_estimators=n) # Your code here\n",
    "        model.fit(X_train, y_train) # Your code here\n",
    "        mae = mean_absolute_error(model.predict(X_valid), y_valid)\n",
    "        print(f\"\\t{mae: 7.4f}\", end=\"\")\n",
    "    print()"
   ]
  },
  {
   "cell_type": "code",
   "execution_count": 7,
   "id": "ece7ab03",
   "metadata": {
    "execution": {
     "iopub.execute_input": "2025-10-16T19:14:14.215020Z",
     "iopub.status.busy": "2025-10-16T19:14:14.214270Z",
     "iopub.status.idle": "2025-10-16T19:14:20.771429Z",
     "shell.execute_reply": "2025-10-16T19:14:20.771946Z",
     "shell.execute_reply.started": "2025-10-16T19:09:39.701326Z"
    },
    "papermill": {
     "duration": 6.574805,
     "end_time": "2025-10-16T19:14:20.772134",
     "exception": false,
     "start_time": "2025-10-16T19:14:14.197329",
     "status": "completed"
    },
    "tags": []
   },
   "outputs": [
    {
     "name": "stdout",
     "output_type": "stream",
     "text": [
      "lr\t\t120\t\t130\t\t140\n",
      "8\t 17376.5105\t 17396.4594\t 17359.8924\n",
      "9\t 16694.9101\t 16641.8070\t 16654.6523\n",
      "10\t 17407.1034\t 17442.7554\t 17421.4059\n"
     ]
    }
   ],
   "source": [
    "print(\"lr\", *[i for i in range(120, 141, 10)], sep=\"\\t\\t\")\n",
    "for r in range(8, 11, 1):\n",
    "    print(r, end=\"\")\n",
    "    for n in range(120, 141, 10):\n",
    "        model = XGBRegressor(random_state=0, learning_rate=r / 100, n_estimators=n) # Your code here\n",
    "        model.fit(X_train, y_train) # Your code here\n",
    "        mae = mean_absolute_error(model.predict(X_valid), y_valid)\n",
    "        print(f\"\\t{mae: 7.4f}\", end=\"\")\n",
    "    print()"
   ]
  },
  {
   "cell_type": "code",
   "execution_count": 8,
   "id": "b41f101d",
   "metadata": {
    "execution": {
     "iopub.execute_input": "2025-10-16T19:14:20.804628Z",
     "iopub.status.busy": "2025-10-16T19:14:20.804133Z",
     "iopub.status.idle": "2025-10-16T19:14:20.806152Z",
     "shell.execute_reply": "2025-10-16T19:14:20.806526Z",
     "shell.execute_reply.started": "2025-10-16T19:09:50.785760Z"
    },
    "papermill": {
     "duration": 0.01883,
     "end_time": "2025-10-16T19:14:20.806646",
     "exception": false,
     "start_time": "2025-10-16T19:14:20.787816",
     "status": "completed"
    },
    "tags": []
   },
   "outputs": [],
   "source": [
    "n = 140\n",
    "r = 9"
   ]
  },
  {
   "cell_type": "code",
   "execution_count": 9,
   "id": "fb7f6bb7",
   "metadata": {
    "execution": {
     "iopub.execute_input": "2025-10-16T19:14:20.841339Z",
     "iopub.status.busy": "2025-10-16T19:14:20.840705Z",
     "iopub.status.idle": "2025-10-16T19:14:21.610154Z",
     "shell.execute_reply": "2025-10-16T19:14:21.609643Z",
     "shell.execute_reply.started": "2025-10-16T19:09:50.791403Z"
    },
    "papermill": {
     "duration": 0.789924,
     "end_time": "2025-10-16T19:14:21.610294",
     "exception": false,
     "start_time": "2025-10-16T19:14:20.820370",
     "status": "completed"
    },
    "tags": []
   },
   "outputs": [
    {
     "name": "stdout",
     "output_type": "stream",
     "text": [
      "MAE: 16654.65226348459\n"
     ]
    }
   ],
   "source": [
    "my_model_2 = XGBRegressor(random_state=0, learning_rate=r / 100, n_estimators=n) # Your code here # Your code here\n",
    "\n",
    "# Fit the model\n",
    "my_model_2.fit(X_train, y_train) # Your code here\n",
    "\n",
    "# Get predictions\n",
    "predictions_2 = my_model_2.predict(X_valid) # Your code here\n",
    "\n",
    "# Calculate MAE\n",
    "mae_2 = mean_absolute_error(predictions_2, y_valid)\n",
    "print(\"MAE:\" , mae_2)"
   ]
  },
  {
   "cell_type": "code",
   "execution_count": 10,
   "id": "985c5eb0",
   "metadata": {
    "execution": {
     "iopub.execute_input": "2025-10-16T19:14:21.643344Z",
     "iopub.status.busy": "2025-10-16T19:14:21.642588Z",
     "iopub.status.idle": "2025-10-16T19:14:21.647539Z",
     "shell.execute_reply": "2025-10-16T19:14:21.647923Z",
     "shell.execute_reply.started": "2025-10-16T19:12:36.159278Z"
    },
    "papermill": {
     "duration": 0.022485,
     "end_time": "2025-10-16T19:14:21.648046",
     "exception": false,
     "start_time": "2025-10-16T19:14:21.625561",
     "status": "completed"
    },
    "tags": []
   },
   "outputs": [],
   "source": [
    "model_3 = XGBRegressor(random_state=0, learning_rate=r / 100, n_estimators=n)\n",
    "\n",
    "X = X[my_cols].copy()\n",
    "X_test = X_test_full[my_cols].copy()"
   ]
  },
  {
   "cell_type": "code",
   "execution_count": 11,
   "id": "0226da57",
   "metadata": {
    "execution": {
     "iopub.execute_input": "2025-10-16T19:14:21.682232Z",
     "iopub.status.busy": "2025-10-16T19:14:21.681102Z",
     "iopub.status.idle": "2025-10-16T19:14:22.673580Z",
     "shell.execute_reply": "2025-10-16T19:14:22.673145Z",
     "shell.execute_reply.started": "2025-10-16T19:12:36.799282Z"
    },
    "papermill": {
     "duration": 1.012417,
     "end_time": "2025-10-16T19:14:22.673708",
     "exception": false,
     "start_time": "2025-10-16T19:14:21.661291",
     "status": "completed"
    },
    "tags": []
   },
   "outputs": [
    {
     "data": {
      "text/plain": [
       "XGBRegressor(base_score=0.5, booster='gbtree', colsample_bylevel=1,\n",
       "             colsample_bynode=1, colsample_bytree=1, enable_categorical=False,\n",
       "             gamma=0, gpu_id=-1, importance_type=None,\n",
       "             interaction_constraints='', learning_rate=0.09, max_delta_step=0,\n",
       "             max_depth=6, min_child_weight=1, missing=nan,\n",
       "             monotone_constraints='()', n_estimators=140, n_jobs=4,\n",
       "             num_parallel_tree=1, predictor='auto', random_state=0, reg_alpha=0,\n",
       "             reg_lambda=1, scale_pos_weight=1, subsample=1, tree_method='exact',\n",
       "             validate_parameters=1, verbosity=None)"
      ]
     },
     "execution_count": 11,
     "metadata": {},
     "output_type": "execute_result"
    }
   ],
   "source": [
    "# One-hot encode the data (to shorten the code, we use pandas)\n",
    "X = pd.get_dummies(X)\n",
    "X_test = pd.get_dummies(X_test)\n",
    "model_3.fit(X, y)"
   ]
  },
  {
   "cell_type": "code",
   "execution_count": 12,
   "id": "f453833b",
   "metadata": {
    "execution": {
     "iopub.execute_input": "2025-10-16T19:14:22.705515Z",
     "iopub.status.busy": "2025-10-16T19:14:22.705046Z",
     "iopub.status.idle": "2025-10-16T19:14:22.708163Z",
     "shell.execute_reply": "2025-10-16T19:14:22.708520Z",
     "shell.execute_reply.started": "2025-10-16T19:12:41.850872Z"
    },
    "papermill": {
     "duration": 0.020952,
     "end_time": "2025-10-16T19:14:22.708639",
     "exception": false,
     "start_time": "2025-10-16T19:14:22.687687",
     "status": "completed"
    },
    "tags": []
   },
   "outputs": [],
   "source": [
    "X, X_test = X.align(X_test, join='left', axis=1)"
   ]
  },
  {
   "cell_type": "code",
   "execution_count": 13,
   "id": "023ff13f",
   "metadata": {
    "execution": {
     "iopub.execute_input": "2025-10-16T19:14:22.739555Z",
     "iopub.status.busy": "2025-10-16T19:14:22.739097Z",
     "iopub.status.idle": "2025-10-16T19:14:22.758382Z",
     "shell.execute_reply": "2025-10-16T19:14:22.757978Z",
     "shell.execute_reply.started": "2025-10-16T19:13:20.680927Z"
    },
    "papermill": {
     "duration": 0.036322,
     "end_time": "2025-10-16T19:14:22.758504",
     "exception": false,
     "start_time": "2025-10-16T19:14:22.722182",
     "status": "completed"
    },
    "tags": []
   },
   "outputs": [
    {
     "name": "stdout",
     "output_type": "stream",
     "text": [
      "Saved\n"
     ]
    }
   ],
   "source": [
    "predictions = model_3.predict(X_test)\n",
    "\n",
    "output = pd.DataFrame({'Id': X_test.index, 'SalePrice': predictions})\n",
    "output.to_csv('submission.csv', index=False)\n",
    "print(\"Saved\")"
   ]
  },
  {
   "cell_type": "code",
   "execution_count": null,
   "id": "66bd20a4",
   "metadata": {
    "papermill": {
     "duration": 0.014792,
     "end_time": "2025-10-16T19:14:22.787907",
     "exception": false,
     "start_time": "2025-10-16T19:14:22.773115",
     "status": "completed"
    },
    "tags": []
   },
   "outputs": [],
   "source": []
  }
 ],
 "metadata": {
  "kaggle": {
   "accelerator": "none",
   "dataSources": [
    {
     "databundleVersionId": 868283,
     "sourceId": 5407,
     "sourceType": "competition"
    }
   ],
   "dockerImageVersionId": 30152,
   "isGpuEnabled": false,
   "isInternetEnabled": true,
   "language": "python",
   "sourceType": "notebook"
  },
  "kernelspec": {
   "display_name": "Python 3",
   "language": "python",
   "name": "python3"
  },
  "language_info": {
   "codemirror_mode": {
    "name": "ipython",
    "version": 3
   },
   "file_extension": ".py",
   "mimetype": "text/x-python",
   "name": "python",
   "nbconvert_exporter": "python",
   "pygments_lexer": "ipython3",
   "version": "3.7.12"
  },
  "papermill": {
   "default_parameters": {},
   "duration": 33.311265,
   "end_time": "2025-10-16T19:14:23.911257",
   "environment_variables": {},
   "exception": null,
   "input_path": "__notebook__.ipynb",
   "output_path": "__notebook__.ipynb",
   "parameters": {},
   "start_time": "2025-10-16T19:13:50.599992",
   "version": "2.3.3"
  }
 },
 "nbformat": 4,
 "nbformat_minor": 5
}
